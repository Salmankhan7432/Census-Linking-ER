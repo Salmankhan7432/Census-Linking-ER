{
 "cells": [
  {
   "cell_type": "code",
   "execution_count": null,
   "metadata": {},
   "outputs": [],
   "source": [
    "import DWM10_Parms\n",
    "def writeLinkIndex(linkIndex, refDict):\n",
    "    logFile = DWM10_Parms.logFile\n",
    "    print('\\n>>Starting DWM96')\n",
    "    print('\\n>>Starting DWM96', file=logFile)    \n",
    "    # add any missing sigleton clusters\n",
    "    for key in linkIndex:\n",
    "        if len(linkIndex[key])==0:\n",
    "            linkIndex[key] = key\n",
    "    # write out linkIndex\n",
    "    inputPrefix = DWM10_Parms.inputPrefix\n",
    "    linkFileName = inputPrefix+'-LinkIndex.txt'\n",
    "    linkFile = open(linkFileName,'w')\n",
    "    linkFile.write('RefID, ClusterID\\n')\n",
    "    for pair in sorted(linkIndex.items()):\n",
    "        refID = pair[0]\n",
    "        clusterID = pair[1]\n",
    "        head = refID + ', ' + clusterID\n",
    "        if DWM10_Parms.addRefsToLinkIndex:\n",
    "            tokenList = refDict[refID]\n",
    "            head = head+','\n",
    "            for token in tokenList:\n",
    "                head = head + ' ' + token\n",
    "        linkFile.write(head+'\\n')\n",
    "    linkFile.close()\n",
    "    print('Record written to',linkFileName, '=',len(linkIndex))\n",
    "    print('Record written to',linkFileName, '=',len(linkIndex), file=logFile)\n",
    "    return"
   ]
  }
 ],
 "metadata": {
  "kernelspec": {
   "display_name": "Python 3",
   "language": "python",
   "name": "python3"
  },
  "language_info": {
   "codemirror_mode": {
    "name": "ipython",
    "version": 3
   },
   "file_extension": ".py",
   "mimetype": "text/x-python",
   "name": "python",
   "nbconvert_exporter": "python",
   "pygments_lexer": "ipython3",
   "version": "3.8.5"
  }
 },
 "nbformat": 4,
 "nbformat_minor": 4
}
