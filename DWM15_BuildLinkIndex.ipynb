{
 "cells": [
  {
   "cell_type": "code",
   "execution_count": null,
   "metadata": {},
   "outputs": [],
   "source": [
    "import DWM10_Parms\n",
    "def buildLinkIndex(refDict):\n",
    "    logFile = DWM10_Parms.logFile\n",
    "    print('\\n>>Starting DWM15')\n",
    "    print('\\n>>Starting DWM15', file=logFile)\n",
    "    linkIndex = {}\n",
    "    for key in refDict:\n",
    "        linkIndex[key] =''\n",
    "    print('LinkIndex created, record count =', len(linkIndex))\n",
    "    print('LinkIndex created, record count =', len(linkIndex), file=logFile)\n",
    "    return linkIndex"
   ]
  }
 ],
 "metadata": {
  "kernelspec": {
   "display_name": "Python 3",
   "language": "python",
   "name": "python3"
  },
  "language_info": {
   "codemirror_mode": {
    "name": "ipython",
    "version": 3
   },
   "file_extension": ".py",
   "mimetype": "text/x-python",
   "name": "python",
   "nbconvert_exporter": "python",
   "pygments_lexer": "ipython3",
   "version": "3.8.5"
  }
 },
 "nbformat": 4,
 "nbformat_minor": 4
}
