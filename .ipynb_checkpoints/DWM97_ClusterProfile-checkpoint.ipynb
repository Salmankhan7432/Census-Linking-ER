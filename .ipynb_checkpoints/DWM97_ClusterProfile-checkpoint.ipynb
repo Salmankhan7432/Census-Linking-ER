{
 "cells": [
  {
   "cell_type": "code",
   "execution_count": null,
   "metadata": {},
   "outputs": [],
   "source": [
    "import DWM10_Parms\n",
    "def generateProfile(linkIndex):\n",
    "    logFile = DWM10_Parms.logFile\n",
    "    print('\\n>>Starting DWM97')\n",
    "    print('\\n>>Starting DWM97', file=logFile)\n",
    "    profileDict = {}\n",
    "    clusterSizeDict = {}\n",
    "    for key in linkIndex:\n",
    "        clusterKey = linkIndex[key]\n",
    "        if clusterKey not in clusterSizeDict:\n",
    "            clusterSizeDict[clusterKey] = 1\n",
    "        else:\n",
    "            cnt = clusterSizeDict[clusterKey]\n",
    "            cnt +=1\n",
    "            clusterSizeDict[clusterKey] = cnt\n",
    "    for key in clusterSizeDict:\n",
    "        clusterSize = clusterSizeDict[key]\n",
    "        if clusterSize not in profileDict:\n",
    "            profileDict[clusterSize] = 1\n",
    "        else:\n",
    "            cnt = profileDict[clusterSize]\n",
    "            cnt +=1\n",
    "            profileDict[clusterSize] = cnt\n",
    "    print('\\nCluster Profile')\n",
    "    print('\\nCluster Profile', file=logFile)\n",
    "    print('Size\\tCount')\n",
    "    print('Size\\tCount', file=logFile)\n",
    "    total = 0\n",
    "    for key in sorted(profileDict.keys()) :\n",
    "        clusterTotal = key*profileDict[key]\n",
    "        total +=clusterTotal\n",
    "        print(key, '\\t', profileDict[key], '\\t', clusterTotal)\n",
    "        print(key, '\\t', profileDict[key], '\\t', clusterTotal, file=logFile)\n",
    "    print('\\tTotal\\t', total)\n",
    "    print('\\tTotal\\t', total, file=logFile)     \n",
    "    return"
   ]
  }
 ],
 "metadata": {
  "kernelspec": {
   "display_name": "Python 3",
   "language": "python",
   "name": "python3"
  },
  "language_info": {
   "codemirror_mode": {
    "name": "ipython",
    "version": 3
   },
   "file_extension": ".py",
   "mimetype": "text/x-python",
   "name": "python",
   "nbconvert_exporter": "python",
   "pygments_lexer": "ipython3",
   "version": "3.8.5"
  }
 },
 "nbformat": 4,
 "nbformat_minor": 4
}
