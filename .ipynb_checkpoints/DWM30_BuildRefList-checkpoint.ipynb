{
 "cells": [
  {
   "cell_type": "code",
   "execution_count": null,
   "metadata": {},
   "outputs": [],
   "source": [
    "import DWM10_Parms\n",
    "def buildRefList(logFile, stdTokenDict):\n",
    "    print('\\n>>Starting DWM30')\n",
    "    print('\\n>>Starting DWM30', file=logFile)\n",
    "    tokenizedFileName = DWM10_Parms.tokenizedFileName\n",
    "    tokenizedFile = open(tokenizedFileName,'r')\n",
    "    refList = []\n",
    "    tokenChgCnt = 0\n",
    "    refChgCnt = 0\n",
    "    line = tokenizedFile.readline()\n",
    "    while line != '':\n",
    "        line = line.strip()\n",
    "        firstBlank = line.find(' ')\n",
    "        refID = line[0:firstBlank]\n",
    "        body = line[firstBlank+1:]\n",
    "        if DWM10_Parms.runReplacement:\n",
    "            tokens = body.split()\n",
    "            body = ''\n",
    "            changeFlag = False\n",
    "            for j in range(0, len(tokens)):\n",
    "                token = tokens[j]\n",
    "                if token in stdTokenDict.keys():\n",
    "                    tokens[j] = stdTokenDict[token]\n",
    "                    tokenChgCnt +=1\n",
    "                    changeFlag = True\n",
    "                body = body + tokens[j] + ' '\n",
    "            body = body.strip()\n",
    "            if changeFlag:\n",
    "                refChgCnt +=1\n",
    "        refList.append(('',refID,body))\n",
    "        line = tokenizedFile.readline()\n",
    "    if DWM10_Parms.runReplacement:\n",
    "        print('Number of tokens changed = ', tokenChgCnt)\n",
    "        print('Number of references changed = ', refChgCnt)\n",
    "    tokenizedFile.close()\n",
    "    print('Total References Read from ',tokenizedFileName,'=',len(refList))\n",
    "    print('Total References Read from ',tokenizedFileName,'=',len(refList), file=logFile)\n",
    "    return refList"
   ]
  }
 ],
 "metadata": {
  "kernelspec": {
   "display_name": "Python 3",
   "language": "python",
   "name": "python3"
  },
  "language_info": {
   "codemirror_mode": {
    "name": "ipython",
    "version": 3
   },
   "file_extension": ".py",
   "mimetype": "text/x-python",
   "name": "python",
   "nbconvert_exporter": "python",
   "pygments_lexer": "ipython3",
   "version": "3.8.5"
  }
 },
 "nbformat": 4,
 "nbformat_minor": 2
}
